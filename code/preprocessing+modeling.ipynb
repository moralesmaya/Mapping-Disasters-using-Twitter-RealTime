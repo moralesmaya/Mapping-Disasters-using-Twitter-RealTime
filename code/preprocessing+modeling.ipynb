{
 "cells": [
  {
   "cell_type": "code",
   "execution_count": 100,
   "metadata": {},
   "outputs": [],
   "source": [
    "import pandas as pd\n",
    "import numpy as np\n",
    "\n",
    "import gensim\n",
    "import time\n",
    "\n",
    "from sklearn.preprocessing import LabelEncoder\n",
    "from sklearn.model_selection import train_test_split\n",
    "from sklearn.metrics import roc_auc_score,  roc_curve, auc, RocCurveDisplay\n",
    "from cycler import cycler\n",
    "\n",
    "\n",
    "from keras import utils, regularizers\n",
    "from keras.preprocessing.text import Tokenizer\n",
    "from keras.preprocessing.sequence import pad_sequences\n",
    "from keras.layers import LSTM, Embedding, Dense, Dropout, Bidirectional\n",
    "from keras.models import Sequential\n",
    "\n",
    "\n",
    "import nltk\n",
    "from nltk.tokenize import RegexpTokenizer\n",
    "from nltk.stem import WordNetLemmatizer\n",
    "from nltk.corpus import stopwords"
   ]
  },
  {
   "cell_type": "code",
   "execution_count": 2,
   "metadata": {},
   "outputs": [
    {
     "data": {
      "text/plain": [
       "(64122, 2)"
      ]
     },
     "metadata": {},
     "output_type": "display_data"
    },
    {
     "data": {
      "text/html": [
       "<div>\n",
       "<style scoped>\n",
       "    .dataframe tbody tr th:only-of-type {\n",
       "        vertical-align: middle;\n",
       "    }\n",
       "\n",
       "    .dataframe tbody tr th {\n",
       "        vertical-align: top;\n",
       "    }\n",
       "\n",
       "    .dataframe thead th {\n",
       "        text-align: right;\n",
       "    }\n",
       "</style>\n",
       "<table border=\"1\" class=\"dataframe\">\n",
       "  <thead>\n",
       "    <tr style=\"text-align: right;\">\n",
       "      <th></th>\n",
       "      <th>tweet</th>\n",
       "      <th>category</th>\n",
       "    </tr>\n",
       "  </thead>\n",
       "  <tbody>\n",
       "    <tr>\n",
       "      <th>0</th>\n",
       "      <td>jay1972jay nope mid 80  it  off metallica  2nd...</td>\n",
       "      <td>neutral</td>\n",
       "    </tr>\n",
       "    <tr>\n",
       "      <th>1</th>\n",
       "      <td>nothing like a :16 second downpour to give us ...</td>\n",
       "      <td>neutral</td>\n",
       "    </tr>\n",
       "    <tr>\n",
       "      <th>2</th>\n",
       "      <td>nelsontagoona so glad that you missed the floo...</td>\n",
       "      <td>floods</td>\n",
       "    </tr>\n",
       "    <tr>\n",
       "      <th>3</th>\n",
       "      <td>party hard suns down still warm lovin life smi...</td>\n",
       "      <td>neutral</td>\n",
       "    </tr>\n",
       "    <tr>\n",
       "      <th>4</th>\n",
       "      <td>exclusionzone if you compare yourself to water...</td>\n",
       "      <td>neutral</td>\n",
       "    </tr>\n",
       "  </tbody>\n",
       "</table>\n",
       "</div>"
      ],
      "text/plain": [
       "                                               tweet category\n",
       "0  jay1972jay nope mid 80  it  off metallica  2nd...  neutral\n",
       "1  nothing like a :16 second downpour to give us ...  neutral\n",
       "2  nelsontagoona so glad that you missed the floo...   floods\n",
       "3  party hard suns down still warm lovin life smi...  neutral\n",
       "4  exclusionzone if you compare yourself to water...  neutral"
      ]
     },
     "execution_count": 2,
     "metadata": {},
     "output_type": "execute_result"
    }
   ],
   "source": [
    "df = pd.read_csv('data/cleaned_tweets.csv')\n",
    "df['category'] = df['category'].replace('not_disaster', 'neutral') \n",
    "df.drop('label', axis = 1, inplace = True)\n",
    "display(df.shape)\n",
    "df.head()"
   ]
  },
  {
   "cell_type": "code",
   "execution_count": 3,
   "metadata": {},
   "outputs": [
    {
     "data": {
      "text/plain": [
       "neutral       27493\n",
       "floods         9022\n",
       "earthquake     8745\n",
       "hurricane      5579\n",
       "bombing        4879\n",
       "explosion      4236\n",
       "tornado        4168\n",
       "Name: category, dtype: int64"
      ]
     },
     "execution_count": 3,
     "metadata": {},
     "output_type": "execute_result"
    }
   ],
   "source": [
    "df.category.value_counts()"
   ]
  },
  {
   "cell_type": "code",
   "execution_count": 4,
   "metadata": {},
   "outputs": [
    {
     "data": {
      "text/plain": [
       "neutral       0.316070\n",
       "hurricane     0.199255\n",
       "floods        0.135347\n",
       "earthquake    0.100536\n",
       "tornado       0.079681\n",
       "bombing       0.056091\n",
       "explosion     0.048699\n",
       "noreaster     0.033615\n",
       "mudslide      0.030707\n",
       "Name: category, dtype: float64"
      ]
     },
     "metadata": {},
     "output_type": "display_data"
    }
   ],
   "source": [
    "# Using an additional data set with other categories of disasters to expand our predictions classes. \n",
    "additional = pd.read_csv('data/clean_df.csv')\n",
    "df2 = pd.DataFrame(columns = ['text', 'type'], data = additional)\n",
    "\n",
    "df2.rename(columns = {'text':'tweet', 'type': 'category'}, inplace = True)\n",
    "df2\n",
    "df2['category'] = df2['category'].replace('flood', 'floods') \n",
    "df = pd.concat([df, df2], ignore_index=True, axis = 0)\n",
    "\n",
    "\n",
    "display(df.category.value_counts(normalize=True))"
   ]
  },
  {
   "cell_type": "code",
   "execution_count": 18,
   "metadata": {},
   "outputs": [],
   "source": [
    "#To further round out our training data, importing additional tweets involving wildfires \n",
    "df3 = pd.read_csv('https://raw.githubusercontent.com/Dong-UTIL/Natural-Hazards-Twitter-Dataset/master/2018Wildfires_Summary.csv')\n",
    "df3 = pd.DataFrame(columns = ['text', 'label'], data = df3)\n",
    "df3.rename(columns = {'text':'tweet', 'label': 'category'}, inplace = True)\n",
    "df3['category'] = df3['category'].replace({1: 'wildfire', 0 : 'neutral'}) \n",
    "df = pd.concat([df, df3], ignore_index=True, axis = 0)\n",
    "\n",
    "df.head()\n",
    "\n",
    "df.to_csv('data/combined_cleaned_tweets_for_training.csv')"
   ]
  },
  {
   "cell_type": "code",
   "execution_count": 6,
   "metadata": {},
   "outputs": [
    {
     "data": {
      "text/plain": [
       "neutral       0.303844\n",
       "hurricane     0.189255\n",
       "floods        0.128554\n",
       "earthquake    0.095490\n",
       "tornado       0.075682\n",
       "bombing       0.053276\n",
       "wildfire      0.046549\n",
       "explosion     0.046255\n",
       "noreaster     0.031928\n",
       "mudslide      0.029166\n",
       "Name: category, dtype: float64"
      ]
     },
     "execution_count": 6,
     "metadata": {},
     "output_type": "execute_result"
    }
   ],
   "source": [
    "df.category.value_counts(normalize=True)"
   ]
  },
  {
   "cell_type": "code",
   "execution_count": 7,
   "metadata": {},
   "outputs": [],
   "source": [
    "#Processing the text data, including tokenizing, lemmentizing and padding.\n",
    "#This entire function will\n",
    "def process_tweet():\n",
    "    tokenizer = RegexpTokenizer('\\w+|\\$[\\d\\.]\\S+')\n",
    "    lem = WordNetLemmatizer()\n",
    "    STOPWORDS = set(stopwords.words('english'))\n",
    "    df['processed_tweets'] = df['tweet'].apply(tokenizer.tokenize)\n",
    "    df['processed_tweets'] = df['processed_tweets'].apply(lambda row: list([lem.lemmatize(i) for i in row]))\n",
    "    df['processed_tweets'] = df['processed_tweets'].apply(lambda x:[i for i in x if i not in STOPWORDS] )\n",
    "    \n",
    "    tokenizer = Tokenizer(num_words= 5000)\n",
    "    tokenizer.fit_on_texts(df.processed_tweets.tolist())\n",
    "    X = tokenizer.texts_to_sequences(df.processed_tweets.tolist())\n",
    "    X = pad_sequences(X, maxlen = df.processed_tweets.str.len().max(), padding = 'post')\n",
    "    return X\n",
    "\n",
    "X = process_tweet()"
   ]
  },
  {
   "cell_type": "code",
   "execution_count": 8,
   "metadata": {},
   "outputs": [],
   "source": [
    "#Establishing and enoding our y variable.\n",
    "y = df['category']\n",
    "le = LabelEncoder()\n",
    "y = le.fit_transform(y)\n",
    "y = utils.to_categorical(y)\n",
    "X_train, X_test, y_train, y_test = train_test_split(X, y, test_size = 0.2, stratify = y)"
   ]
  },
  {
   "cell_type": "code",
   "execution_count": 9,
   "metadata": {},
   "outputs": [
    {
     "name": "stdout",
     "output_type": "stream",
     "text": [
      "512.9523613452911\n"
     ]
    }
   ],
   "source": [
    "#Importing our pre-trained Word2Vec model\n",
    "\n",
    "t0 = time.time()\n",
    "\n",
    "w2v = gensim.models.KeyedVectors.load_word2vec_format(\n",
    "    '/Users/mathea/Downloads/lexvec.commoncrawl.300d.W.pos.neg3.vectors')\n",
    "\n",
    "print(time.time() - t0)"
   ]
  },
  {
   "cell_type": "code",
   "execution_count": 13,
   "metadata": {},
   "outputs": [
    {
     "name": "stderr",
     "output_type": "stream",
     "text": [
      "<ipython-input-13-9eacca66d170>:1: DeprecationWarning: Call to deprecated `wv` (Attribute will be removed in 4.0.0, use self instead).\n",
      "  embedding_layer = Embedding(input_dim = w2v.wv.vectors.shape[0],\n",
      "<ipython-input-13-9eacca66d170>:2: DeprecationWarning: Call to deprecated `wv` (Attribute will be removed in 4.0.0, use self instead).\n",
      "  output_dim = w2v.wv.vectors.shape[1],\n",
      "<ipython-input-13-9eacca66d170>:3: DeprecationWarning: Call to deprecated `wv` (Attribute will be removed in 4.0.0, use self instead).\n",
      "  weights = [w2v.wv.vectors])\n"
     ]
    }
   ],
   "source": [
    "#Establishing our Word2Vec embedding layer, it's dimensions and pre-trained weights. \n",
    "embedding_layer = Embedding(input_dim = w2v.wv.vectors.shape[0],\n",
    "                           output_dim = w2v.wv.vectors.shape[1],\n",
    "                           weights = [w2v.wv.vectors])"
   ]
  },
  {
   "cell_type": "code",
   "execution_count": 15,
   "metadata": {},
   "outputs": [],
   "source": [
    "#Model architecture \n",
    "\n",
    "model = Sequential()\n",
    "\n",
    "model.add(embedding_layer)\n",
    "model.add(Bidirectional(LSTM(128, activation = 'relu', kernel_regularizer = regularizers.l2(0.01))))\n",
    "model.add(Dropout(0.3))\n",
    "model.add(Dense(64, activation = 'relu', kernel_regularizer = regularizers.l2(0.01)))\n",
    "model.add(Dropout(0.2))\n",
    "model.add(Dense(10, activation = 'softmax'))\n",
    "model.compile(loss = 'categorical_crossentropy', optimizer = 'adam', metrics = ['acc'])\n",
    "\n"
   ]
  },
  {
   "cell_type": "code",
   "execution_count": 16,
   "metadata": {},
   "outputs": [
    {
     "name": "stdout",
     "output_type": "stream",
     "text": [
      "Epoch 1/10\n",
      "144/144 [==============================] - 1401s 10s/step - loss: 57.5922 - acc: 0.2886 - val_loss: 1.6971 - val_acc: 0.6362\n",
      "Epoch 2/10\n",
      "144/144 [==============================] - 1370s 10s/step - loss: 1.5001 - acc: 0.7350 - val_loss: 1.0109 - val_acc: 0.8655\n",
      "Epoch 3/10\n",
      "144/144 [==============================] - 1334s 9s/step - loss: 0.9081 - acc: 0.8917 - val_loss: 0.7688 - val_acc: 0.9075\n",
      "Epoch 4/10\n",
      "144/144 [==============================] - 1372s 10s/step - loss: 0.7269 - acc: 0.9165 - val_loss: 0.6916 - val_acc: 0.9119\n",
      "Epoch 5/10\n",
      "144/144 [==============================] - 1382s 10s/step - loss: 0.6337 - acc: 0.9263 - val_loss: 0.6554 - val_acc: 0.9164\n",
      "Epoch 6/10\n",
      "144/144 [==============================] - 1386s 10s/step - loss: 0.5840 - acc: 0.9293 - val_loss: 0.6349 - val_acc: 0.9153\n",
      "Epoch 7/10\n",
      "144/144 [==============================] - 1391s 10s/step - loss: 0.5573 - acc: 0.9326 - val_loss: 0.6198 - val_acc: 0.9158\n",
      "Epoch 8/10\n",
      "144/144 [==============================] - 1386s 10s/step - loss: 0.5282 - acc: 0.9360 - val_loss: 0.6205 - val_acc: 0.9115\n",
      "Epoch 9/10\n",
      "144/144 [==============================] - 1337s 9s/step - loss: 0.5105 - acc: 0.9388 - val_loss: 0.6189 - val_acc: 0.9110\n",
      "Epoch 10/10\n",
      "144/144 [==============================] - 1363s 9s/step - loss: 0.4994 - acc: 0.9399 - val_loss: 0.6445 - val_acc: 0.9097\n"
     ]
    },
    {
     "data": {
      "text/plain": [
       "<tensorflow.python.keras.callbacks.History at 0x7f8c3549c520>"
      ]
     },
     "execution_count": 16,
     "metadata": {},
     "output_type": "execute_result"
    }
   ],
   "source": [
    "#Training our RNN model\n",
    "\n",
    "#history = model.fit(X_train, y_train, validation_data = (X_test, y_test),\n",
    "#          batch_size = 512, epochs = 10)"
   ]
  },
  {
   "cell_type": "code",
   "execution_count": 17,
   "metadata": {},
   "outputs": [],
   "source": [
    "#Saving our LSTM model for use in our ongoing predictions and flagging system. \n",
    "model_saved = model.save('Word2Vec_LSTM_model.h5')"
   ]
  },
  {
   "cell_type": "code",
   "execution_count": 75,
   "metadata": {},
   "outputs": [],
   "source": [
    "predictions = np.argmax(model.predict(X_test), axis=-1)\n",
    "predictions = utils.to_categorical(predictions)"
   ]
  },
  {
   "cell_type": "code",
   "execution_count": 77,
   "metadata": {},
   "outputs": [
    {
     "data": {
      "text/plain": [
       "0.9478796144619267"
      ]
     },
     "execution_count": 77,
     "metadata": {},
     "output_type": "execute_result"
    }
   ],
   "source": [
    "#Using the ROC AUC score to evaluate our model\n",
    "roc_auc_score(y_test, predictions, multi_class='ovr')"
   ]
  },
  {
   "cell_type": "code",
   "execution_count": 125,
   "metadata": {},
   "outputs": [
    {
     "data": {
      "image/png": "[encoded data removed]",
      "text/plain": [
       "<Figure size 1440x720 with 1 Axes>"
      ]
     },
     "metadata": {
      "needs_background": "light"
     },
     "output_type": "display_data"
    }
   ],
   "source": [
    "#Plotting the one vs rest auc score for each category.\n",
    "\n",
    "n_classes = y.shape[1]\n",
    "y_score = model.predict(X_test)\n",
    "\n",
    "plt.figure(figsize = (20, 10))\n",
    "\n",
    "fpr = dict()\n",
    "tpr = dict()\n",
    "roc_auc = dict()\n",
    "for i in range(n_classes):\n",
    "    fpr[i], tpr[i], _ = roc_curve(y_test[:, i], y_score[:, i])\n",
    "    roc_auc[i] = auc(fpr[i], tpr[i])\n",
    "colors = ['r', 'g', 'b', 'y', 'c', 'm', 'k', 'r', 'g', 'b']\n",
    "for i, color in zip(range(n_classes), colors):\n",
    "    plt.plot(fpr[i], tpr[i], color=color,\n",
    "             label='ROC curve of class {0} (area = {1:0.2f})'\n",
    "             ''.format(i, roc_auc[i]))\n",
    "plt.plot([0, 1], [0, 1], 'k--')\n",
    "plt.xlim([-0.05, 1.0])\n",
    "plt.ylim([0.0, 1.05])\n",
    "plt.xlabel('False Positive Rate')\n",
    "plt.ylabel('True Positive Rate')\n",
    "plt.title('Receiver operating characteristic for multi-class data')\n",
    "plt.legend(loc=\"lower right\")\n",
    "plt.show()"
   ]
  },
  {
   "cell_type": "markdown",
   "metadata": {},
   "source": [
    "## Keyword Extraction\n",
    "\n",
    "Because our pre-trained Word2Vec model is so comprehensive, we will use similar words to our disaster categories to scrape Twitter for relevant tweets. The below function produces a list of keywords which will be used in the ongoing Twitter scraping notebook. "
   ]
  },
  {
   "cell_type": "code",
   "execution_count": 27,
   "metadata": {
    "scrolled": true
   },
   "outputs": [
    {
     "name": "stderr",
     "output_type": "stream",
     "text": [
      "/Users/mathea/opt/anaconda3/lib/python3.8/site-packages/gensim/models/keyedvectors.py:2389: RuntimeWarning: invalid value encountered in true_divide\n",
      "  return (m / dist).astype(REAL)\n"
     ]
    },
    {
     "data": {
      "text/plain": [
       "['flooding',\n",
       " 'mudslides',\n",
       " 'droughts',\n",
       " 'landslides',\n",
       " 'flood',\n",
       " 'storms',\n",
       " 'wildfires',\n",
       " 'earthquakes',\n",
       " 'tornadoes',\n",
       " 'floodwaters',\n",
       " 'typhoons',\n",
       " 'disasters',\n",
       " 'tsunami',\n",
       " 'tsunamis',\n",
       " 'earthquake',\n",
       " 'explosions',\n",
       " 'exploded',\n",
       " 'explodes',\n",
       " 'blast',\n",
       " 'exploding',\n",
       " 'explode',\n",
       " 'bomb',\n",
       " 'detonation',\n",
       " 'implosion',\n",
       " 'earthquake',\n",
       " 'detonations',\n",
       " 'catastrophe',\n",
       " 'burst',\n",
       " 'fires',\n",
       " 'blasts',\n",
       " 'quake',\n",
       " 'tsunami',\n",
       " 'earthquakes',\n",
       " 'aftershocks',\n",
       " 'quakes',\n",
       " 'floods',\n",
       " 'temblor',\n",
       " 'disaster',\n",
       " 'devastation',\n",
       " 'tsunamis',\n",
       " 'landslides',\n",
       " 'disasters',\n",
       " 'magnitude',\n",
       " 'mudslides',\n",
       " 'flood',\n",
       " 'hurrican',\n",
       " 'storm',\n",
       " 'hurricanes',\n",
       " 'katrina',\n",
       " 'storms',\n",
       " 'tornado',\n",
       " 'cyclone',\n",
       " 'tsunami',\n",
       " 'typhoon',\n",
       " 'disaster',\n",
       " 'landfall',\n",
       " 'earthquake',\n",
       " 'flood',\n",
       " 'huricane',\n",
       " 'tornadoes',\n",
       " 'tornadoes',\n",
       " 'tornados',\n",
       " 'storm',\n",
       " 'thunderstorm',\n",
       " 'hurricane',\n",
       " 'tsunami',\n",
       " 'cyclone',\n",
       " 'storms',\n",
       " 'typhoon',\n",
       " 'floods',\n",
       " 'snowstorm',\n",
       " 'tornadic',\n",
       " 'flood',\n",
       " 'earthquake',\n",
       " 'waterspout',\n",
       " 'bombings',\n",
       " 'bombed',\n",
       " 'bomb',\n",
       " 'airstrikes',\n",
       " 'bomber',\n",
       " 'bombers',\n",
       " 'bombs',\n",
       " 'terrorist',\n",
       " 'airstrike',\n",
       " 'firebombing',\n",
       " 'attack',\n",
       " 'hijackings',\n",
       " 'attacks',\n",
       " 'bombardment',\n",
       " 'bombardments',\n",
       " 'mudslides',\n",
       " 'landslides',\n",
       " 'landslide',\n",
       " 'rainstorms',\n",
       " 'sinkhole',\n",
       " 'mudflows',\n",
       " 'earthquake',\n",
       " 'rockslide',\n",
       " 'snowstorm',\n",
       " 'kahlua',\n",
       " 'temblor',\n",
       " 'mudflow',\n",
       " 'rainstorm',\n",
       " 'blizzards',\n",
       " 'snowstorms',\n",
       " 'snowpocalypse',\n",
       " 'snowstorm',\n",
       " 'snowstorms',\n",
       " 'snowmageddon',\n",
       " 'snowicane',\n",
       " 'rainstorm',\n",
       " 'squalls',\n",
       " 'snowtober',\n",
       " 'thundersnow',\n",
       " 'whiteout',\n",
       " 'snowfall',\n",
       " 'pogies',\n",
       " 'windchills',\n",
       " 'blizzards',\n",
       " 'bostonist']"
      ]
     },
     "execution_count": 27,
     "metadata": {},
     "output_type": "execute_result"
    }
   ],
   "source": [
    "similar_words = []\n",
    "\n",
    "for i in df.category.unique()[1:-1]: #Taking out neutral category from the keyword search \n",
    "    x = w2v.most_similar(i, topn=15)\n",
    "    for word in range(len(x)):\n",
    "        similar_words.append(x[word][0])\n",
    "    \n",
    "similar_words"
   ]
  }
 ],
 "metadata": {
  "kernelspec": {
   "display_name": "Python 3",
   "language": "python",
   "name": "python3"
  },
  "language_info": {
   "codemirror_mode": {
    "name": "ipython",
    "version": 3
   },
   "file_extension": ".py",
   "mimetype": "text/x-python",
   "name": "python",
   "nbconvert_exporter": "python",
   "pygments_lexer": "ipython3",
   "version": "3.8.5"
  }
 },
 "nbformat": 4,
 "nbformat_minor": 4
}
